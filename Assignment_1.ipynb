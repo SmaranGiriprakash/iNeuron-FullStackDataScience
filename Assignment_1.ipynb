{
 "cells": [
  {
   "cell_type": "markdown",
   "id": "c0c82715",
   "metadata": {},
   "source": [
    "# Assignment 1 #"
   ]
  },
  {
   "cell_type": "markdown",
   "id": "7eb84b08",
   "metadata": {},
   "source": [
    "### Smaran ###"
   ]
  },
  {
   "cell_type": "raw",
   "id": "93608394",
   "metadata": {},
   "source": [
    "1. In the below elements which of them are values or an expression? eg:- values can be\n",
    "integer or string and expressions will be mathematical operators.\n",
    "*\n",
    "'hello'\n",
    "-87.8\n",
    "-\n",
    "/\n",
    "+\n",
    "6\n",
    "\n",
    "Ans: \n",
    "*, -, / and + are experssions since they are arithmetic operators and will be used on variables \n",
    "\n",
    "'hello', -87.8 and 6 are values as they can be stored as a variable and have a datatype associated to it. "
   ]
  },
  {
   "cell_type": "raw",
   "id": "a138ee5b",
   "metadata": {},
   "source": [
    "2. What is the difference between string and variable?\n",
    "\n",
    "Ans: \n",
    "A string is a datatype associated with a variable to label it as a text. It will always open and end with a quote or double quotes. Example: \"Hi\", \"1235\". \n",
    "\n",
    "A variable is where a data or a dataset is stored or assigned to for the purpose of memory storage. Example: hi1, name. "
   ]
  },
  {
   "cell_type": "raw",
   "id": "979d020b",
   "metadata": {},
   "source": [
    "3. Describe three different data types.\n",
    "\n",
    "Ans:\n",
    "(i) String - this dataype is assigned to variables containing text data. \n",
    "(ii) Integer (int) - this datatype is assigned to variables holding whole numbers. \n",
    "(iii) Boolean (bool) - this datatype represents either a True or False value. "
   ]
  },
  {
   "cell_type": "raw",
   "id": "eefa7085",
   "metadata": {},
   "source": [
    "4. What is an expression made up of? What do all expressions do?\n",
    "\n",
    "Ans:\n",
    " An expression is made up of variables, values and arithmetic operators. Expressions are evaluated by the interpreter and it finally displays the result of the evaluated expression."
   ]
  },
  {
   "cell_type": "raw",
   "id": "b4682a8f",
   "metadata": {},
   "source": [
    "5. This assignment statements, like spam = 10. What is the difference between an\n",
    "expression and a statement?\n",
    "\n",
    "Ans:\n",
    "A statment is an instruction the the interpreter can run. Example: if-statements, for loops, while loops, etc. \n",
    "\n",
    "An expression is a combination of variables, values and operators which are evaluated by the interpreter. Example: t=a+b-c+10 "
   ]
  },
  {
   "cell_type": "raw",
   "id": "1dacecbd",
   "metadata": {},
   "source": [
    "6. After running the following code, what does the variable bacon contain?\n",
    "bacon = 22\n",
    "bacon + 1\n",
    "\n",
    "Ans: Variable bacon will contain 23"
   ]
  },
  {
   "cell_type": "raw",
   "id": "9385385a",
   "metadata": {},
   "source": [
    "7. What should the values of the following two terms be?\n",
    "'spam' + 'spamspam'\n",
    "'spam' * 3\n",
    "\n",
    "Ans: \n",
    "    'spamspamspam' for both the terms"
   ]
  },
  {
   "cell_type": "raw",
   "id": "a6fb7bdf",
   "metadata": {},
   "source": [
    "8. Why is eggs a valid variable name while 100 is invalid?\n",
    "\n",
    "Ans: \n",
    " Eggs is a valid variable name as there aren't any keywords named as eggs. \n",
    "\n",
    "100 is invalid as it is a number and the python programming language disables us to have numbers as a variable name.\n",
    "But it does allow a combination of numbers and letters to be a variable name such as twe20nty or w13. \n"
   ]
  },
  {
   "cell_type": "raw",
   "id": "2370ec9c",
   "metadata": {},
   "source": [
    "9. What three functions can be used to get the integer, floating-point number, or string\n",
    "version of a value?\n",
    "\n",
    "Ans: \n",
    "    int()\n",
    "    float()\n",
    "    str()"
   ]
  },
  {
   "cell_type": "raw",
   "id": "293cb9a1",
   "metadata": {},
   "source": [
    "10. Why does this expression cause an error? How can you fix it?\n",
    "'I have eaten' + 99 + 'burritos' \n",
    "\n",
    "Ans: \n",
    "    There is an integer present in the expression and an integer cannot be concatenated with a string without typecasting. \n",
    "\n",
    "    'I have eaten' + str( 99 ) + 'burritos'\n",
    "    \n",
    "    Now that we have typecasted the integer to string, the expression won't cause an error and will execute successfully. "
   ]
  }
 ],
 "metadata": {
  "kernelspec": {
   "display_name": "Python 3 (ipykernel)",
   "language": "python",
   "name": "python3"
  },
  "language_info": {
   "codemirror_mode": {
    "name": "ipython",
    "version": 3
   },
   "file_extension": ".py",
   "mimetype": "text/x-python",
   "name": "python",
   "nbconvert_exporter": "python",
   "pygments_lexer": "ipython3",
   "version": "3.9.7"
  }
 },
 "nbformat": 4,
 "nbformat_minor": 5
}
