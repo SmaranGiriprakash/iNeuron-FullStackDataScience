{
 "cells": [
  {
   "cell_type": "markdown",
   "id": "b6cdf02b",
   "metadata": {},
   "source": [
    "# Assignment 2 #"
   ]
  },
  {
   "cell_type": "markdown",
   "id": "74d0201b",
   "metadata": {},
   "source": [
    "### Smaran ###"
   ]
  },
  {
   "cell_type": "raw",
   "id": "33c526d7",
   "metadata": {},
   "source": [
    "1.What are the two values of the Boolean data type? How do you write them?\n",
    "\n",
    "Ans: \n",
    " True and False. You can write them as T and F or True and False. "
   ]
  },
  {
   "cell_type": "raw",
   "id": "a23ca9ab",
   "metadata": {},
   "source": [
    "2. What are the three different types of Boolean operators?\n",
    "\n",
    "Ans: and, or and not are the 3 different boolean operators. "
   ]
  },
  {
   "cell_type": "raw",
   "id": "d74f8ea5",
   "metadata": {},
   "source": [
    "3. Make a list of each Boolean operator's truth tables (i.e. every possible combination of Boolean\n",
    "values for the operator and what it evaluate)\n",
    "\n",
    "Ans: \n",
    "    True and True is True\n",
    "    False and False is False\n",
    "    True or True is True\n",
    "    False or False is False\n",
    "    True and False is False\n",
    "    True or False is True\n",
    "    Not True is False\n",
    "    Not False is True"
   ]
  },
  {
   "cell_type": "raw",
   "id": "d9a90bff",
   "metadata": {},
   "source": [
    "4. What are the values of the following expressions?\n",
    "(5 > 4) and (3 == 5)\n",
    "not (5 > 4)\n",
    "(5 > 4) or (3 == 5)\n",
    "not ((5 > 4) or (3 == 5))\n",
    "(True and True) and (True == False)\n",
    "(not False) or (not True)\n",
    "\n",
    "Ans: \n",
    "    (5>4) and (3==5) is False\n",
    "    not(5>4) is False\n",
    "    (5>4) or (3==5) is True\n",
    "    not((5>4) or (3==5)) is False \n",
    "    (True and True) and (True == False) is False\n",
    "    (not False) or (not True) is True"
   ]
  },
  {
   "cell_type": "raw",
   "id": "22908784",
   "metadata": {},
   "source": [
    "5. What are the six comparison operators?\n",
    "\n",
    "Ans: \n",
    "    <,>,<=,>=,==,!="
   ]
  },
  {
   "cell_type": "raw",
   "id": "c3f464ed",
   "metadata": {},
   "source": [
    "6. How do you tell the difference between the equal to and assignment operators?Describe a\n",
    "condition and when you would use one.\n",
    "\n",
    "Ans:\n",
    "    == is the operator used to compare two values and then evaluated by a boolean. \n",
    "    = is the assignment operator which is used to store data into a variable. \n",
    "    "
   ]
  },
  {
   "cell_type": "raw",
   "id": "701f8ee5",
   "metadata": {},
   "source": [
    "7. Identify the three blocks in this code:\n",
    "spam = 0\n",
    "if spam == 10:\n",
    "print('eggs')\n",
    "if spam > 5:\n",
    "print('bacon')\n",
    "else:\n",
    "print('ham')\n",
    "print('spam')\n",
    "print('spam')\n",
    "\n",
    "Ans: \n",
    "    Block 1 - if spam == 10:\n",
    "               print('eggs')\n",
    "    Block 2 - if spam > 5:\n",
    "               print('bacon')\n",
    "    Block 3 - else:\n",
    "              print('ham')\n",
    "              print('spam')\n",
    "              print('spam')"
   ]
  },
  {
   "cell_type": "raw",
   "id": "5a87d30f",
   "metadata": {},
   "source": [
    "8. Write code that prints Hello if 1 is stored in spam, prints Howdy if 2 is stored in spam, and prints\n",
    "Greetings! if anything else is stored in spam.\n",
    "\n",
    "Ans: \n",
    "    spam = int(input(\"Enter A natural Number:\"))\n",
    "    if spam==1:\n",
    "      print('Hello')\n",
    "    elif spam==2:\n",
    "      print('Howdy')\n",
    "    else:\n",
    "      print('Greetings!')\n"
   ]
  },
  {
   "cell_type": "raw",
   "id": "ae857586",
   "metadata": {},
   "source": [
    "9.If your programme is stuck in an endless loop, what keys you’ll press?\n",
    "\n",
    "Ans:\n",
    "    Ctrl + C"
   ]
  },
  {
   "cell_type": "raw",
   "id": "4c2c8c8a",
   "metadata": {},
   "source": [
    "10. How can you tell the difference between break and continue?\n",
    "\n",
    "Ans:\n",
    "    Break will move the execution outside the loop whereas continue will move the execution to the start of the loop"
   ]
  },
  {
   "cell_type": "raw",
   "id": "1b521642",
   "metadata": {},
   "source": [
    "11. In a for loop, what is the difference between range(10), range(0, 10), and range(0, 10, 1)?\n",
    "\n",
    "Ans:\n",
    "    Range(10) calls numbers from 0 upto 10.\n",
    "    Range(0,10) calls numbers to specifically start from 0 upto 10. \n",
    "    Range(0,10,1) calls numbers from 0 upto 10 and to increase by 1 after each iteration. "
   ]
  },
  {
   "cell_type": "raw",
   "id": "ed330f2a",
   "metadata": {},
   "source": [
    "12. Write a short program that prints the numbers 1 to 10 using a for loop. Then write an equivalent\n",
    "program that prints the numbers 1 to 10 using a while loop.\n",
    "\n",
    "Ans: \n",
    "    for i in range(1,11):\n",
    "    print (i)\n",
    "    \n",
    "    i=1\n",
    "    while i<=10:\n",
    "    print(i)\n",
    "    i=i+1"
   ]
  },
  {
   "cell_type": "raw",
   "id": "be1c5760",
   "metadata": {},
   "source": [
    "13. If you had a function named bacon() inside a module named spam, how would you call it after\n",
    "importing spam?\n",
    "\n",
    "Ans:\n",
    "    spam.bacon()."
   ]
  }
 ],
 "metadata": {
  "kernelspec": {
   "display_name": "Python 3 (ipykernel)",
   "language": "python",
   "name": "python3"
  },
  "language_info": {
   "codemirror_mode": {
    "name": "ipython",
    "version": 3
   },
   "file_extension": ".py",
   "mimetype": "text/x-python",
   "name": "python",
   "nbconvert_exporter": "python",
   "pygments_lexer": "ipython3",
   "version": "3.9.7"
  }
 },
 "nbformat": 4,
 "nbformat_minor": 5
}
